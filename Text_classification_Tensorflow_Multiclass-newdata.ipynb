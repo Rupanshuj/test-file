{
 "cells": [
  {
   "cell_type": "markdown",
   "metadata": {
    "colab_type": "text",
    "id": "view-in-github"
   },
   "source": [
    "<a href=\"https://colab.research.google.com/github/srivatsan88/Natural-Language-Processing/blob/master/Text_classification_Tensorflow_Multiclass.ipynb\" target=\"_parent\"><img src=\"https://colab.research.google.com/assets/colab-badge.svg\" alt=\"Open In Colab\"/></a>"
   ]
  },
  {
   "cell_type": "markdown",
   "metadata": {
    "colab_type": "text",
    "id": "w_WSckhF77Ny"
   },
   "source": [
    "Link to video explaining the code is availale at - https://youtu.be/dkpS2g4K08s"
   ]
  },
  {
   "cell_type": "code",
   "execution_count": 1,
   "metadata": {
    "colab": {},
    "colab_type": "code",
    "id": "fUbFvR7LDB3U"
   },
   "outputs": [],
   "source": [
    "from __future__ import absolute_import, division, print_function, unicode_literals\n",
    "\n",
    "import tensorflow as tf\n",
    "\n",
    "import os\n",
    "import datetime\n",
    "import tensorflow_hub as hub\n",
    "import numpy as np\n",
    "    \n",
    "import pandas as pd\n",
    "from sklearn.model_selection import train_test_split"
   ]
  },
  {
   "cell_type": "code",
   "execution_count": 2,
   "metadata": {},
   "outputs": [
    {
     "data": {
      "text/plain": [
       "[PhysicalDevice(name='/physical_device:CPU:0', device_type='CPU'),\n",
       " PhysicalDevice(name='/physical_device:XLA_CPU:0', device_type='XLA_CPU'),\n",
       " PhysicalDevice(name='/physical_device:XLA_GPU:0', device_type='XLA_GPU')]"
      ]
     },
     "execution_count": 2,
     "metadata": {},
     "output_type": "execute_result"
    }
   ],
   "source": [
    "tf.config.list_physical_devices()"
   ]
  },
  {
   "cell_type": "code",
   "execution_count": 3,
   "metadata": {},
   "outputs": [
    {
     "name": "stdout",
     "output_type": "stream",
     "text": [
      "Num GPUs Available:  0\n"
     ]
    }
   ],
   "source": [
    "print(\"Num GPUs Available: \", len(tf.config.experimental.list_physical_devices('GPU')))"
   ]
  },
  {
   "cell_type": "code",
   "execution_count": 4,
   "metadata": {},
   "outputs": [
    {
     "data": {
      "text/plain": [
       "True"
      ]
     },
     "execution_count": 4,
     "metadata": {},
     "output_type": "execute_result"
    }
   ],
   "source": [
    "tf.test.is_built_with_cuda()"
   ]
  },
  {
   "cell_type": "code",
   "execution_count": 2,
   "metadata": {
    "colab": {},
    "colab_type": "code",
    "id": "QDH43tw-DN4y"
   },
   "outputs": [],
   "source": [
    "#df=pd.read_csv('https://github.com/srivatsan88/YouTubeLI/blob/master/dataset/consumer_compliants.zip?raw=true', compression='zip', sep=',', quotechar='\"')\n",
    "df=pd.read_excel('USCANCom.xlsx')"
   ]
  },
  {
   "cell_type": "code",
   "execution_count": 3,
   "metadata": {
    "colab": {
     "base_uri": "https://localhost:8080/",
     "height": 124
    },
    "colab_type": "code",
    "id": "AewvMzr1NBJc",
    "outputId": "5e3c8027-dfd1-424c-a319-3debbebdb01a"
   },
   "outputs": [
    {
     "data": {
      "text/plain": [
       "Index(['Company Name', 'Primary Sector', 'Primary Industry',\n",
       "       'Business Description'],\n",
       "      dtype='object')"
      ]
     },
     "execution_count": 3,
     "metadata": {},
     "output_type": "execute_result"
    }
   ],
   "source": [
    "df.columns"
   ]
  },
  {
   "cell_type": "code",
   "execution_count": 4,
   "metadata": {},
   "outputs": [],
   "source": [
    "df['Business Description'] = df['Business Description'].str.replace('[^\\w\\s]','')"
   ]
  },
  {
   "cell_type": "code",
   "execution_count": 5,
   "metadata": {
    "colab": {
     "base_uri": "https://localhost:8080/",
     "height": 1000
    },
    "colab_type": "code",
    "id": "jCGEYEQJ3E9U",
    "outputId": "6f04ccfb-a328-4f82-b1fa-1c3ddc50b284"
   },
   "outputs": [
    {
     "name": "stderr",
     "output_type": "stream",
     "text": [
      "<ipython-input-5-176f38559c2f>:1: FutureWarning: Passing a negative integer is deprecated in version 1.0 and will not be supported in future version. Instead, use None to not limit the column width.\n",
      "  pd.set_option('display.max_colwidth', -1)\n"
     ]
    },
    {
     "data": {
      "text/html": [
       "<div>\n",
       "<style scoped>\n",
       "    .dataframe tbody tr th:only-of-type {\n",
       "        vertical-align: middle;\n",
       "    }\n",
       "\n",
       "    .dataframe tbody tr th {\n",
       "        vertical-align: top;\n",
       "    }\n",
       "\n",
       "    .dataframe thead th {\n",
       "        text-align: right;\n",
       "    }\n",
       "</style>\n",
       "<table border=\"1\" class=\"dataframe\">\n",
       "  <thead>\n",
       "    <tr style=\"text-align: right;\">\n",
       "      <th></th>\n",
       "      <th>Company Name</th>\n",
       "      <th>Primary Sector</th>\n",
       "      <th>Primary Industry</th>\n",
       "      <th>Business Description</th>\n",
       "    </tr>\n",
       "  </thead>\n",
       "  <tbody>\n",
       "    <tr>\n",
       "      <th>0</th>\n",
       "      <td>@Plan.Inc</td>\n",
       "      <td>Industrials</td>\n",
       "      <td>Research and Consulting Services</td>\n",
       "      <td>PlanInc was acquired by DoubleClick Inc on February 2 2001 PlanInc provided target market research planning systems for Internet advertisers advertising agencies Web publishers online retailers and consumer brand marketers</td>\n",
       "    </tr>\n",
       "  </tbody>\n",
       "</table>\n",
       "</div>"
      ],
      "text/plain": [
       "  Company Name Primary Sector                  Primary Industry  \\\n",
       "0  @Plan.Inc    Industrials    Research and Consulting Services   \n",
       "\n",
       "                                                                                                                                                                                                             Business Description  \n",
       "0  PlanInc was acquired by DoubleClick Inc on February 2 2001 PlanInc provided target market research planning systems for Internet advertisers advertising agencies Web publishers online retailers and consumer brand marketers  "
      ]
     },
     "execution_count": 5,
     "metadata": {},
     "output_type": "execute_result"
    }
   ],
   "source": [
    "pd.set_option('display.max_colwidth', -1)\n",
    "df.head(1)\n"
   ]
  },
  {
   "cell_type": "code",
   "execution_count": 6,
   "metadata": {},
   "outputs": [],
   "source": [
    "import string\n",
    "from nltk.corpus import stopwords\n",
    "import re\n",
    "# # In case of any corpus are missing \n",
    "# download all-nltk\n",
    "\n",
    "\n",
    "df['Business Description'] = df['Business Description'].str.replace('\\d+', '')"
   ]
  },
  {
   "cell_type": "code",
   "execution_count": 7,
   "metadata": {},
   "outputs": [],
   "source": [
    "df['Primary Industry'] = df['Primary Industry'].str.replace('\\d+', '')"
   ]
  },
  {
   "cell_type": "code",
   "execution_count": 8,
   "metadata": {},
   "outputs": [],
   "source": [
    "df['Business Description'] = df['Business Description'].astype(str)\n",
    "df['Primary Sector'] = df['Primary Sector'].astype(str)"
   ]
  },
  {
   "cell_type": "code",
   "execution_count": 9,
   "metadata": {},
   "outputs": [],
   "source": [
    "df.fillna(value='', inplace=True)"
   ]
  },
  {
   "cell_type": "code",
   "execution_count": 10,
   "metadata": {},
   "outputs": [
    {
     "data": {
      "text/html": [
       "<div>\n",
       "<style scoped>\n",
       "    .dataframe tbody tr th:only-of-type {\n",
       "        vertical-align: middle;\n",
       "    }\n",
       "\n",
       "    .dataframe tbody tr th {\n",
       "        vertical-align: top;\n",
       "    }\n",
       "\n",
       "    .dataframe thead th {\n",
       "        text-align: right;\n",
       "    }\n",
       "</style>\n",
       "<table border=\"1\" class=\"dataframe\">\n",
       "  <thead>\n",
       "    <tr style=\"text-align: right;\">\n",
       "      <th></th>\n",
       "      <th>Company Name</th>\n",
       "      <th>Primary Sector</th>\n",
       "      <th>Primary Industry</th>\n",
       "      <th>Business Description</th>\n",
       "    </tr>\n",
       "  </thead>\n",
       "  <tbody>\n",
       "    <tr>\n",
       "      <th>0</th>\n",
       "      <td>@Plan.Inc</td>\n",
       "      <td>Industrials</td>\n",
       "      <td>Research and Consulting Services</td>\n",
       "      <td>PlanInc was acquired by DoubleClick Inc on February   PlanInc provided target market research planning systems for Internet advertisers advertising agencies Web publishers online retailers and consumer brand marketers</td>\n",
       "    </tr>\n",
       "  </tbody>\n",
       "</table>\n",
       "</div>"
      ],
      "text/plain": [
       "  Company Name Primary Sector                  Primary Industry  \\\n",
       "0  @Plan.Inc    Industrials    Research and Consulting Services   \n",
       "\n",
       "                                                                                                                                                                                                        Business Description  \n",
       "0  PlanInc was acquired by DoubleClick Inc on February   PlanInc provided target market research planning systems for Internet advertisers advertising agencies Web publishers online retailers and consumer brand marketers  "
      ]
     },
     "execution_count": 10,
     "metadata": {},
     "output_type": "execute_result"
    }
   ],
   "source": [
    "df.head(1)"
   ]
  },
  {
   "cell_type": "code",
   "execution_count": 11,
   "metadata": {},
   "outputs": [],
   "source": [
    "df = df[['Primary Sector','Business Description']]"
   ]
  },
  {
   "cell_type": "code",
   "execution_count": 15,
   "metadata": {},
   "outputs": [],
   "source": [
    "df = df[df['Primary Sector'].isin(['Financials','Materials','Information Technology', 'Health Care','Industrials','Consumer Discretionary', 'Energy','Communication Services'])]"
   ]
  },
  {
   "cell_type": "code",
   "execution_count": 16,
   "metadata": {
    "colab": {},
    "colab_type": "code",
    "id": "U_UepjKp0fJ-"
   },
   "outputs": [],
   "source": [
    "X_train, X_test = train_test_split(df, test_size=0.2, random_state=111)"
   ]
  },
  {
   "cell_type": "code",
   "execution_count": 17,
   "metadata": {
    "colab": {},
    "colab_type": "code",
    "id": "ZsaEw_JM-UEp"
   },
   "outputs": [
    {
     "name": "stderr",
     "output_type": "stream",
     "text": [
      "C:\\Users\\jharu\\anaconda3\\lib\\site-packages\\sklearn\\utils\\validation.py:68: FutureWarning: Pass classes=['Communication Services' 'Consumer Discretionary' 'Energy' 'Financials'\n",
      " 'Health Care' 'Industrials' 'Information Technology' 'Materials'], y=0        Industrials           \n",
      "1        Information Technology\n",
      "2        Consumer Discretionary\n",
      "3        Consumer Discretionary\n",
      "4        Financials            \n",
      "            ...                \n",
      "22611    Communication Services\n",
      "22612    Materials             \n",
      "22613    Materials             \n",
      "22614    Information Technology\n",
      "22615    Consumer Discretionary\n",
      "Name: Primary Sector, Length: 21205, dtype: object as keyword args. From version 0.25 passing these as positional arguments will result in an error\n",
      "  warnings.warn(\"Pass {} as keyword args. From version 0.25 \"\n"
     ]
    }
   ],
   "source": [
    "from sklearn.utils import class_weight\n",
    "class_weights = list(class_weight.compute_class_weight('balanced',\n",
    "                                             np.unique(df['Primary Sector']),\n",
    "                                             df['Primary Sector']))"
   ]
  },
  {
   "cell_type": "code",
   "execution_count": 18,
   "metadata": {
    "colab": {
     "base_uri": "https://localhost:8080/",
     "height": 142
    },
    "colab_type": "code",
    "id": "4_CyTvUGAFyw",
    "outputId": "9d066071-fa0d-44d2-8842-6aad60c275dd"
   },
   "outputs": [
    {
     "data": {
      "text/plain": [
       "Financials                5245\n",
       "Materials                 2906\n",
       "Information Technology    2749\n",
       "Health Care               2682\n",
       "Industrials               2219\n",
       "Consumer Discretionary    2014\n",
       "Energy                    1918\n",
       "Communication Services    1472\n",
       "Name: Primary Sector, dtype: int64"
      ]
     },
     "execution_count": 18,
     "metadata": {},
     "output_type": "execute_result"
    }
   ],
   "source": [
    "df['Primary Sector'].value_counts()"
   ]
  },
  {
   "cell_type": "code",
   "execution_count": 19,
   "metadata": {},
   "outputs": [],
   "source": [
    "#df = df[df['Primary Sector'].isin(['Financials','Materials','Information Technology', 'Health Care','Industrials','Consumer Discretionary', 'Energy','Communication Services'])]"
   ]
  },
  {
   "cell_type": "code",
   "execution_count": 20,
   "metadata": {
    "colab": {},
    "colab_type": "code",
    "id": "-7gu2a22_neX"
   },
   "outputs": [],
   "source": [
    "class_weights.sort()"
   ]
  },
  {
   "cell_type": "code",
   "execution_count": 21,
   "metadata": {
    "colab": {
     "base_uri": "https://localhost:8080/",
     "height": 124
    },
    "colab_type": "code",
    "id": "I92NNAnbaEFs",
    "outputId": "3e2e8255-5961-47e5-8eb3-fcf8934ce37b"
   },
   "outputs": [
    {
     "data": {
      "text/plain": [
       "[0.5053622497616778,\n",
       " 0.9121214728148658,\n",
       " 0.9642142597308112,\n",
       " 0.9883016405667412,\n",
       " 1.1945132942767012,\n",
       " 1.316099801390268,\n",
       " 1.381973409801877,\n",
       " 1.800696331521739]"
      ]
     },
     "execution_count": 21,
     "metadata": {},
     "output_type": "execute_result"
    }
   ],
   "source": [
    "class_weights"
   ]
  },
  {
   "cell_type": "code",
   "execution_count": 22,
   "metadata": {
    "colab": {},
    "colab_type": "code",
    "id": "8brlwCEg0vnf"
   },
   "outputs": [],
   "source": [
    "weights={}"
   ]
  },
  {
   "cell_type": "code",
   "execution_count": 23,
   "metadata": {
    "colab": {},
    "colab_type": "code",
    "id": "nDvRpRbf05TV"
   },
   "outputs": [],
   "source": [
    "for index, weight in enumerate(class_weights) :\n",
    "    \n",
    "    weights[index]=weight"
   ]
  },
  {
   "cell_type": "code",
   "execution_count": 24,
   "metadata": {
    "colab": {
     "base_uri": "https://localhost:8080/",
     "height": 124
    },
    "colab_type": "code",
    "id": "pwZB03P_2Vyo",
    "outputId": "a29c8d9a-dcac-4761-c28a-edbfb11e8732"
   },
   "outputs": [
    {
     "data": {
      "text/plain": [
       "{0: 0.5053622497616778,\n",
       " 1: 0.9121214728148658,\n",
       " 2: 0.9642142597308112,\n",
       " 3: 0.9883016405667412,\n",
       " 4: 1.1945132942767012,\n",
       " 5: 1.316099801390268,\n",
       " 6: 1.381973409801877,\n",
       " 7: 1.800696331521739}"
      ]
     },
     "execution_count": 24,
     "metadata": {},
     "output_type": "execute_result"
    }
   ],
   "source": [
    "weights"
   ]
  },
  {
   "cell_type": "code",
   "execution_count": 25,
   "metadata": {},
   "outputs": [
    {
     "name": "stdout",
     "output_type": "stream",
     "text": [
      "<class 'pandas.core.frame.DataFrame'>\n",
      "Int64Index: 21205 entries, 0 to 22615\n",
      "Data columns (total 2 columns):\n",
      " #   Column                Non-Null Count  Dtype \n",
      "---  ------                --------------  ----- \n",
      " 0   Primary Sector        21205 non-null  object\n",
      " 1   Business Description  21205 non-null  object\n",
      "dtypes: object(2)\n",
      "memory usage: 497.0+ KB\n"
     ]
    }
   ],
   "source": [
    "df.info()"
   ]
  },
  {
   "cell_type": "code",
   "execution_count": 26,
   "metadata": {},
   "outputs": [
    {
     "data": {
      "text/html": [
       "<div>\n",
       "<style scoped>\n",
       "    .dataframe tbody tr th:only-of-type {\n",
       "        vertical-align: middle;\n",
       "    }\n",
       "\n",
       "    .dataframe tbody tr th {\n",
       "        vertical-align: top;\n",
       "    }\n",
       "\n",
       "    .dataframe thead th {\n",
       "        text-align: right;\n",
       "    }\n",
       "</style>\n",
       "<table border=\"1\" class=\"dataframe\">\n",
       "  <thead>\n",
       "    <tr style=\"text-align: right;\">\n",
       "      <th></th>\n",
       "      <th>Primary Sector</th>\n",
       "      <th>Business Description</th>\n",
       "    </tr>\n",
       "  </thead>\n",
       "  <tbody>\n",
       "  </tbody>\n",
       "</table>\n",
       "</div>"
      ],
      "text/plain": [
       "Empty DataFrame\n",
       "Columns: [Primary Sector, Business Description]\n",
       "Index: []"
      ]
     },
     "execution_count": 26,
     "metadata": {},
     "output_type": "execute_result"
    }
   ],
   "source": [
    "df[df['Business Description'].isna()]"
   ]
  },
  {
   "cell_type": "code",
   "execution_count": 27,
   "metadata": {},
   "outputs": [],
   "source": [
    "#"
   ]
  },
  {
   "cell_type": "code",
   "execution_count": 28,
   "metadata": {
    "colab": {},
    "colab_type": "code",
    "id": "hijEnYw7V_ey"
   },
   "outputs": [],
   "source": [
    "dataset_train = tf.data.Dataset.from_tensor_slices((X_train['Business Description'].values, X_train['Primary Sector'].values))\n",
    "dataset_test = tf.data.Dataset.from_tensor_slices((X_test['Business Description'].values, X_test['Primary Sector'].values))"
   ]
  },
  {
   "cell_type": "code",
   "execution_count": 29,
   "metadata": {
    "colab": {
     "base_uri": "https://localhost:8080/",
     "height": 126
    },
    "colab_type": "code",
    "id": "u1diITDtD9xD",
    "outputId": "3e9628c2-d4fe-4206-c496-a466c2b87931"
   },
   "outputs": [
    {
     "name": "stdout",
     "output_type": "stream",
     "text": [
      "Complaint: b'In March  Tehama Bancorp merged with and into Humboldt Bancorp Pursuant to the merger Tehama Bank the wholly owned subsidiary of Tehama Bancorp became a separate subsidiary of Humboldt Tehama Bancorp through Tehama Bank was engaged in the commercial banking business as of September   Its services included accepting demand savings and time deposits issuing letters of credit and making commercial real estate and consumer loans The bank also offered installment note collection cashiers checks and travelers checks as well as operated as licensed merchant bankcard sales clearer Besides it provided hour automated teller service bankbymail and night depository services safe deposit boxes and other customary banking services The bank primarily served Tehama Butte Glenn and Shasta Counties California through its six offices', Target: b'Financials'\n"
     ]
    }
   ],
   "source": [
    "for text, target in dataset_train.take(1):\n",
    "    \n",
    "    print ('Complaint: {}, Target: {}'.format(text, target))"
   ]
  },
  {
   "cell_type": "code",
   "execution_count": 33,
   "metadata": {
    "colab": {},
    "colab_type": "code",
    "id": "posXzJ1PvHZl"
   },
   "outputs": [],
   "source": [
    "table = tf.lookup.StaticHashTable(\n",
    "    initializer=tf.lookup.KeyValueTensorInitializer(\n",
    "        keys=tf.constant(['Financials','Materials','Information Technology', 'Health Care','Industrials','Consumer Discretionary', 'Energy','Communication Services']),\n",
    "        values=tf.constant([0, 1, 2, 3, 4, 5,6,7]),\n",
    "    ),\n",
    "    default_value=tf.constant(-1),\n",
    "    name=\"target_encoding\"\n",
    ")\n",
    "\n",
    "@tf.function\n",
    "def target(x):\n",
    "    return table.lookup(x)"
   ]
  },
  {
   "cell_type": "code",
   "execution_count": 34,
   "metadata": {
    "colab": {},
    "colab_type": "code",
    "id": "dDr8nLr8vIe-"
   },
   "outputs": [],
   "source": [
    "def show_batch(dataset, size=5):\n",
    "    \n",
    "    \n",
    "    for batch, label in dataset.take(size):\n",
    "        \n",
    "        print(batch.numpy())\n",
    "        print(target(label).numpy())"
   ]
  },
  {
   "cell_type": "code",
   "execution_count": 35,
   "metadata": {
    "colab": {
     "base_uri": "https://localhost:8080/",
     "height": 251
    },
    "colab_type": "code",
    "id": "YbJgzzAmIqTp",
    "outputId": "62fbced7-57fc-4cd6-8645-366d529a7a98"
   },
   "outputs": [
    {
     "name": "stdout",
     "output_type": "stream",
     "text": [
      "b'DIRTT Environmental Solutions Ltd designs manufactures and installs prefabricated interior solutions for use primarily in commercial spaces across various industries and businesses in the United States Canada internationally Its ICE software interior construction technology provides integration and management from design through engineering manufacturing and installation The companys interior construction solutions include prefabricated customized interior modular walls ceilings and floors decorative and functional millwork power infrastructure network infrastructure and preinstalled medical gas piping systems It offers interior construction solutions through a network of independent distribution partners It serves commercial healthcare education hospitality and other industries as well as medical gas piping systems for healthcare DIRTT Environmental Solutions Ltd was founded in  and is headquartered in Calgary Canada'\n",
      "4\n"
     ]
    }
   ],
   "source": [
    "show_batch(dataset_test,1)"
   ]
  },
  {
   "cell_type": "code",
   "execution_count": 36,
   "metadata": {
    "colab": {},
    "colab_type": "code",
    "id": "d6D4lGAezmjL"
   },
   "outputs": [],
   "source": [
    "def fetch(text, labels):\n",
    "    \n",
    "    return text, tf.one_hot(target(labels),8)"
   ]
  },
  {
   "cell_type": "code",
   "execution_count": 37,
   "metadata": {
    "colab": {},
    "colab_type": "code",
    "id": "DQX8hZl60WaK"
   },
   "outputs": [],
   "source": [
    "train_data_f=dataset_train.map(fetch)\n",
    "test_data_f=dataset_test.map(fetch)"
   ]
  },
  {
   "cell_type": "code",
   "execution_count": 38,
   "metadata": {
    "colab": {
     "base_uri": "https://localhost:8080/",
     "height": 73
    },
    "colab_type": "code",
    "id": "xOzA_Tz4vIcV",
    "outputId": "7c28c8e5-53b5-46d2-b174-51e2ac826b6f"
   },
   "outputs": [
    {
     "data": {
      "text/plain": [
       "(<tf.Tensor: shape=(), dtype=string, numpy=b'In March  Tehama Bancorp merged with and into Humboldt Bancorp Pursuant to the merger Tehama Bank the wholly owned subsidiary of Tehama Bancorp became a separate subsidiary of Humboldt Tehama Bancorp through Tehama Bank was engaged in the commercial banking business as of September   Its services included accepting demand savings and time deposits issuing letters of credit and making commercial real estate and consumer loans The bank also offered installment note collection cashiers checks and travelers checks as well as operated as licensed merchant bankcard sales clearer Besides it provided hour automated teller service bankbymail and night depository services safe deposit boxes and other customary banking services The bank primarily served Tehama Butte Glenn and Shasta Counties California through its six offices'>,\n",
       " <tf.Tensor: shape=(8,), dtype=float32, numpy=array([1., 0., 0., 0., 0., 0., 0., 0.], dtype=float32)>)"
      ]
     },
     "execution_count": 38,
     "metadata": {},
     "output_type": "execute_result"
    }
   ],
   "source": [
    "next(iter(train_data_f))"
   ]
  },
  {
   "cell_type": "code",
   "execution_count": 39,
   "metadata": {
    "colab": {
     "base_uri": "https://localhost:8080/",
     "height": 251
    },
    "colab_type": "code",
    "id": "Zad9I-x19Vvo",
    "outputId": "08038420-f188-4873-9c9f-0e167155a8f9"
   },
   "outputs": [
    {
     "data": {
      "text/plain": [
       "(<tf.Tensor: shape=(5,), dtype=string, numpy=\n",
       " array([b'In March  Tehama Bancorp merged with and into Humboldt Bancorp Pursuant to the merger Tehama Bank the wholly owned subsidiary of Tehama Bancorp became a separate subsidiary of Humboldt Tehama Bancorp through Tehama Bank was engaged in the commercial banking business as of September   Its services included accepting demand savings and time deposits issuing letters of credit and making commercial real estate and consumer loans The bank also offered installment note collection cashiers checks and travelers checks as well as operated as licensed merchant bankcard sales clearer Besides it provided hour automated teller service bankbymail and night depository services safe deposit boxes and other customary banking services The bank primarily served Tehama Butte Glenn and Shasta Counties California through its six offices',\n",
       "        b'As of July   Mission Resources Corp was acquired by Petrohawk Energy Corp Mission Resources Corporation engages in drilling acquiring developing and producing natural gas and crude oil primarily in the Permian Basin as well as in Texas and Louisiana Gulf Coast and state and federal waters of the Gulf of Mexico As of December   the companys estimated net proved oil and gas reserves were approximately  billion cubic feet equivalents and held interests in  gross and  net wells The company was formerly known as Bellwether Exploration Company and changed its name to Mission Resources Corporation in May  The company is headquartered in Houston Texas',\n",
       "        b'Amfil Technologies Inc through its subsidiary InterlocKings Inc provides landscape construction and snow removal services in Canada It supplies and installs a range of interlocking stones for driveways as well as offers fencing design services and residential or commercial snow clearing services The company through its subsidiary Snakes  Lagers Inc operates a tabletop gaming bar and cafe located in Toronto Ontario In addition Amfil Technologies Inc through its other subsidiary provides ozone based antimicrobial systems which eliminate of bacteria mold and other pathogens from cannabis cultivation facilities reducing or eliminating the need for harsh chemicals and pesticides during the cultivation process The antimicrobial systems used to treat hydroponic reservoirs plants and surrounding surface areas during various stages of the grow cycle Amfil Technologies Inc was founded in  and is based in Markham Canada',\n",
       "        b'As of March   Oncology Med Inc was acquired by Haz Holdings Inc in a reverse merger transaction Nannaco Inc a development stage company does not have significant operations It seeks mergeracquisition candidates Previously Nannaco provided surface cleaning surface protection surface restoration and other services to commercial and industrial businesses as well as to owners of historical buildings The company was incorporated in  and is based in Gig Harbor Washington',\n",
       "        b'As of January   Visio Corporation was acquired by Microsoft Corporation Visio Corporation supplied business drawing and diagramming software products The companys primary products were Visio Standard Visio Technical Visio Professional Visio Enterprise and IntelliCAD Visios software enabled business and technical users to create drawings and diagrams'],\n",
       "       dtype=object)>,\n",
       " <tf.Tensor: shape=(5, 8), dtype=float32, numpy=\n",
       " array([[1., 0., 0., 0., 0., 0., 0., 0.],\n",
       "        [0., 0., 0., 0., 0., 0., 1., 0.],\n",
       "        [0., 0., 0., 0., 1., 0., 0., 0.],\n",
       "        [0., 0., 0., 1., 0., 0., 0., 0.],\n",
       "        [0., 0., 1., 0., 0., 0., 0., 0.]], dtype=float32)>)"
      ]
     },
     "execution_count": 39,
     "metadata": {},
     "output_type": "execute_result"
    }
   ],
   "source": [
    "train_data, train_labels = next(iter(train_data_f.batch(5)))\n",
    "train_data, train_labels"
   ]
  },
  {
   "cell_type": "code",
   "execution_count": 40,
   "metadata": {},
   "outputs": [
    {
     "data": {
      "text/plain": [
       "<tf.Tensor: shape=(1,), dtype=string, numpy=\n",
       "array([b'In March  Tehama Bancorp merged with and into Humboldt Bancorp Pursuant to the merger Tehama Bank the wholly owned subsidiary of Tehama Bancorp became a separate subsidiary of Humboldt Tehama Bancorp through Tehama Bank was engaged in the commercial banking business as of September   Its services included accepting demand savings and time deposits issuing letters of credit and making commercial real estate and consumer loans The bank also offered installment note collection cashiers checks and travelers checks as well as operated as licensed merchant bankcard sales clearer Besides it provided hour automated teller service bankbymail and night depository services safe deposit boxes and other customary banking services The bank primarily served Tehama Butte Glenn and Shasta Counties California through its six offices'],\n",
       "      dtype=object)>"
      ]
     },
     "execution_count": 40,
     "metadata": {},
     "output_type": "execute_result"
    }
   ],
   "source": [
    "train_data[:1]"
   ]
  },
  {
   "cell_type": "code",
   "execution_count": 41,
   "metadata": {
    "colab": {
     "base_uri": "https://localhost:8080/",
     "height": 802
    },
    "colab_type": "code",
    "id": "ifU5cdUp9VnZ",
    "outputId": "d439a3c2-d3cf-4d75-9daa-0f9dfb73ec07"
   },
   "outputs": [
    {
     "data": {
      "text/plain": [
       "<tf.Tensor: shape=(1, 128), dtype=float32, numpy=\n",
       "array([[ 0.9678121 ,  0.21130985,  0.4878323 , -0.30263278, -0.29055503,\n",
       "         0.26833868,  0.44282416,  0.07498636, -0.26262996,  0.19421248,\n",
       "         0.13042702,  0.10800909, -0.29733106,  0.13081373,  0.12934518,\n",
       "         0.05613798, -0.3534584 ,  0.30905288, -0.02757133,  0.8682679 ,\n",
       "        -0.364638  ,  0.21522994, -0.02652664,  0.2800543 ,  0.06661361,\n",
       "        -0.4496872 ,  0.09921843, -0.00197166, -0.05644349,  0.22302598,\n",
       "         0.1345886 , -0.28414991, -0.35626101,  0.11043958, -0.2343015 ,\n",
       "         0.22904566, -0.07671241, -0.10843585, -0.26986772, -0.08354723,\n",
       "         0.25766337, -0.13431184,  0.18929198,  0.07759936,  0.07133481,\n",
       "         0.14835729,  0.09576484,  0.17312695, -0.11157478,  0.10907102,\n",
       "        -0.00582284, -0.3489654 ,  0.53033006,  0.17980231, -0.28084248,\n",
       "        -0.18559681, -0.12318989,  0.17547438, -0.04151918, -0.17721838,\n",
       "         0.25698146,  0.24676938,  0.00259879, -0.26612645, -0.0890199 ,\n",
       "         0.16601975,  0.0712465 ,  0.26430926, -0.4129882 ,  0.31732997,\n",
       "         0.1664477 ,  0.15238939,  0.05255709, -0.05615399,  0.09242363,\n",
       "         0.47720176, -0.43536994, -0.12750083,  0.08730902, -0.31523553,\n",
       "         0.21744235,  0.16326699,  0.25199702,  0.01259034,  0.47246605,\n",
       "        -0.26286474, -0.44092795,  0.09139898,  0.2007256 ,  0.4228283 ,\n",
       "         0.1469468 ,  0.12824975, -0.11484556, -0.3841011 ,  0.20717652,\n",
       "        -0.16928929,  0.27658093,  0.11157321, -0.29007602,  0.28065062,\n",
       "        -0.09079021, -0.02633926, -0.22942756,  0.03545655,  0.22045489,\n",
       "        -0.05200311,  0.01045847, -0.0433971 , -0.11597326, -0.21557318,\n",
       "        -0.3789806 , -0.06259464, -0.18796858,  0.00953276,  0.29684064,\n",
       "         0.19929525,  0.23525247,  0.01998049,  0.2772329 ,  0.11612641,\n",
       "        -0.12751204, -0.36004728, -0.23821269, -0.12614752, -0.0016907 ,\n",
       "         0.5542248 ,  0.12325471, -0.20123748]], dtype=float32)>"
      ]
     },
     "execution_count": 41,
     "metadata": {},
     "output_type": "execute_result"
    }
   ],
   "source": [
    "embedding = \"https://tfhub.dev/google/tf2-preview/nnlm-en-dim128/1\"\n",
    "hub_layer = hub.KerasLayer(embedding, output_shape=[128], input_shape=[], \n",
    "                           dtype=tf.string, trainable=True)\n",
    "hub_layer(train_data[:1])"
   ]
  },
  {
   "cell_type": "code",
   "execution_count": 42,
   "metadata": {
    "colab": {
     "base_uri": "https://localhost:8080/",
     "height": 517
    },
    "colab_type": "code",
    "id": "1AI7BhDe9Vif",
    "outputId": "12c70379-9b0f-4d25-a95e-910ca903e85d"
   },
   "outputs": [
    {
     "name": "stdout",
     "output_type": "stream",
     "text": [
      "Model: \"sequential\"\n",
      "_________________________________________________________________\n",
      "Layer (type)                 Output Shape              Param #   \n",
      "=================================================================\n",
      "keras_layer (KerasLayer)     (None, 128)               124642688 \n",
      "_________________________________________________________________\n",
      "reshape (Reshape)            (None, 128, 1)            0         \n",
      "_________________________________________________________________\n",
      "bidirectional (Bidirectional (None, 128, 128)          33792     \n",
      "_________________________________________________________________\n",
      "bidirectional_1 (Bidirection (None, 64)                41216     \n",
      "_________________________________________________________________\n",
      "dense (Dense)                (None, 128)               8320      \n",
      "_________________________________________________________________\n",
      "dropout (Dropout)            (None, 128)               0         \n",
      "_________________________________________________________________\n",
      "dense_1 (Dense)              (None, 64)                8256      \n",
      "_________________________________________________________________\n",
      "dropout_1 (Dropout)          (None, 64)                0         \n",
      "_________________________________________________________________\n",
      "dense_2 (Dense)              (None, 8)                 520       \n",
      "=================================================================\n",
      "Total params: 124,734,792\n",
      "Trainable params: 124,734,792\n",
      "Non-trainable params: 0\n",
      "_________________________________________________________________\n"
     ]
    }
   ],
   "source": [
    "model = tf.keras.Sequential()\n",
    "model.add(hub_layer)\n",
    "model.add(tf.keras.layers.Reshape( target_shape=(128 , 1 ) ))\n",
    "model.add(tf.keras.layers.Bidirectional(tf.keras.layers.LSTM(64, return_sequences=True)))\n",
    "model.add(tf.keras.layers.Bidirectional(tf.keras.layers.LSTM(32)))\n",
    "for units in [128, 64 ]:\n",
    "    \n",
    "    model.add(tf.keras.layers.Dense(units, activation='relu'))\n",
    "    model.add(tf.keras.layers.Dropout(0.2))\n",
    "model.add(tf.keras.layers.Dense(8, activation='softmax'))\n",
    "\n",
    "model.summary()"
   ]
  },
  {
   "cell_type": "code",
   "execution_count": 43,
   "metadata": {
    "colab": {},
    "colab_type": "code",
    "id": "Z_HPHq3W9VeT"
   },
   "outputs": [],
   "source": [
    "model.compile(optimizer='adam',\n",
    "              loss=tf.keras.losses.CategoricalCrossentropy(from_logits=True),\n",
    "              metrics=['accuracy'])"
   ]
  },
  {
   "cell_type": "code",
   "execution_count": 44,
   "metadata": {
    "colab": {},
    "colab_type": "code",
    "id": "jSCeGUYF9TlL"
   },
   "outputs": [],
   "source": [
    "train_data_f=train_data_f.shuffle(70000).batch(100)\n",
    "test_data_f=test_data_f.batch(100)"
   ]
  },
  {
   "cell_type": "code",
   "execution_count": 45,
   "metadata": {
    "colab": {
     "base_uri": "https://localhost:8080/",
     "height": 180
    },
    "colab_type": "code",
    "id": "E_h5I4StQj5E",
    "outputId": "98f61cb1-2e0c-4a15-9dbc-9a0c1b375d75"
   },
   "outputs": [
    {
     "name": "stdout",
     "output_type": "stream",
     "text": [
      "Epoch 1/4\n",
      "170/170 [==============================] - 430s 3s/step - loss: 1.8434 - accuracy: 0.5070 - val_loss: 1.6025 - val_accuracy: 0.6682\n",
      "Epoch 2/4\n",
      "170/170 [==============================] - 371s 2s/step - loss: 1.5940 - accuracy: 0.7174 - val_loss: 1.5363 - val_accuracy: 0.7369\n",
      "Epoch 3/4\n",
      "170/170 [==============================] - 368s 2s/step - loss: 1.5035 - accuracy: 0.7947 - val_loss: 1.5336 - val_accuracy: 0.7380\n",
      "Epoch 4/4\n",
      "170/170 [==============================] - 372s 2s/step - loss: 1.4702 - accuracy: 0.8209 - val_loss: 1.5307 - val_accuracy: 0.7399\n"
     ]
    }
   ],
   "source": [
    "history = model.fit(train_data_f,\n",
    "                    epochs=4,\n",
    "                    validation_data=test_data_f,\n",
    "                    verbose=1,\n",
    "                    class_weight=weights)"
   ]
  },
  {
   "cell_type": "code",
   "execution_count": 46,
   "metadata": {
    "colab": {
     "base_uri": "https://localhost:8080/",
     "height": 35
    },
    "colab_type": "code",
    "id": "hy55ceBpjL7E",
    "outputId": "4141c279-216d-4e36-e291-ffa0d7de14f6"
   },
   "outputs": [
    {
     "data": {
      "text/plain": [
       "4241"
      ]
     },
     "execution_count": 46,
     "metadata": {},
     "output_type": "execute_result"
    }
   ],
   "source": [
    "len(list(dataset_test))"
   ]
  },
  {
   "cell_type": "code",
   "execution_count": 47,
   "metadata": {
    "colab": {
     "base_uri": "https://localhost:8080/",
     "height": 53
    },
    "colab_type": "code",
    "id": "MwG1bP-TC5fE",
    "outputId": "244428b1-c662-41ff-96b6-aeb19095e49f"
   },
   "outputs": [
    {
     "name": "stdout",
     "output_type": "stream",
     "text": [
      "1/1 - 0s - loss: 1.5307 - accuracy: 0.7399\n",
      "[1.530747890472412, 0.7399198412895203]\n"
     ]
    }
   ],
   "source": [
    "results = model.evaluate(dataset_test.map(fetch).batch(11491), verbose=2)\n",
    "\n",
    "print(results)"
   ]
  },
  {
   "cell_type": "code",
   "execution_count": 48,
   "metadata": {
    "colab": {},
    "colab_type": "code",
    "id": "-nQdChwqbFer"
   },
   "outputs": [],
   "source": [
    "test_data, test_labels = next(iter(dataset_test.map(fetch).batch(45963)))"
   ]
  },
  {
   "cell_type": "code",
   "execution_count": 49,
   "metadata": {
    "colab": {},
    "colab_type": "code",
    "id": "nZ9qnGJ7cHlc"
   },
   "outputs": [],
   "source": [
    "y_pred=model.predict(test_data)"
   ]
  },
  {
   "cell_type": "code",
   "execution_count": 50,
   "metadata": {
    "colab": {},
    "colab_type": "code",
    "id": "ZzzDvHTAcnIv"
   },
   "outputs": [],
   "source": [
    "from sklearn.metrics import classification_report"
   ]
  },
  {
   "cell_type": "code",
   "execution_count": 51,
   "metadata": {
    "colab": {
     "base_uri": "https://localhost:8080/",
     "height": 249
    },
    "colab_type": "code",
    "id": "Vz8L4sgJcTqI",
    "outputId": "ad67bc27-14ce-42dc-d46b-7dcd82b60093"
   },
   "outputs": [
    {
     "name": "stdout",
     "output_type": "stream",
     "text": [
      "              precision    recall  f1-score   support\n",
      "\n",
      "           0       0.88      0.82      0.85      1079\n",
      "           1       0.92      0.77      0.84       621\n",
      "           2       0.80      0.49      0.61       558\n",
      "           3       0.92      0.83      0.87       527\n",
      "           4       0.48      0.65      0.55       427\n",
      "           5       0.54      0.69      0.61       401\n",
      "           6       0.82      0.89      0.85       362\n",
      "           7       0.45      0.68      0.54       266\n",
      "\n",
      "    accuracy                           0.74      4241\n",
      "   macro avg       0.72      0.73      0.72      4241\n",
      "weighted avg       0.77      0.74      0.75      4241\n",
      "\n"
     ]
    }
   ],
   "source": [
    "print(classification_report(test_labels.numpy().argmax(axis=1), y_pred.argmax(axis=1)))"
   ]
  },
  {
   "cell_type": "code",
   "execution_count": 52,
   "metadata": {
    "colab": {
     "base_uri": "https://localhost:8080/",
     "height": 124
    },
    "colab_type": "code",
    "id": "KGQ59jwIQjgX",
    "outputId": "7fb0c5b8-d47b-43b7-d330-1442db4b9376"
   },
   "outputs": [
    {
     "data": {
      "text/plain": [
       "array([[890,  15,   9,   6,  48,  35,   9,  67],\n",
       "       [ 24, 481,   2,   3,  70,  12,  24,   5],\n",
       "       [ 34,   4, 273,   9,  93,  58,   4,  83],\n",
       "       [  6,   1,  10, 437,  18,  32,   9,  14],\n",
       "       [ 20,   7,  29,  12, 278,  51,  15,  15],\n",
       "       [ 25,   2,   7,   5,  46, 276,   6,  34],\n",
       "       [  3,  13,   0,   2,  17,   3, 323,   1],\n",
       "       [ 11,   2,  12,   2,  11,  43,   5, 180]], dtype=int64)"
      ]
     },
     "execution_count": 52,
     "metadata": {},
     "output_type": "execute_result"
    }
   ],
   "source": [
    "from sklearn.metrics import confusion_matrix\n",
    "confusion_matrix(test_labels.numpy().argmax(axis=1), y_pred.argmax(axis=1))"
   ]
  },
  {
   "cell_type": "code",
   "execution_count": 56,
   "metadata": {
    "colab": {},
    "colab_type": "code",
    "id": "wC7ymBCknK98"
   },
   "outputs": [
    {
     "name": "stdout",
     "output_type": "stream",
     "text": [
      "[[4.3813248e-05 2.1499852e-03 4.9917289e-05 2.1862360e-02 8.2536530e-01\n",
      "  6.3375264e-02 8.7094389e-02 5.8929851e-05]] Industrials\n"
     ]
    }
   ],
   "source": [
    "new_complaint = [' Medicines and vaccines are going to be our priority ']\n",
    "#seq = tokenizer.texts_to_sequences(new_complaint)\n",
    "#padded = pad_sequences(seq, maxlen=MAX_SEQUENCE_LENGTH)\n",
    "pred = model.predict(new_complaint)\n",
    "labels = ['Financials','Materials','Information Technology', 'Health Care','Industrials','Consumer Discretionary', 'Energy','Communication Services']\n",
    "print(pred, labels[np.argmax(pred)])"
   ]
  },
  {
   "cell_type": "code",
   "execution_count": null,
   "metadata": {
    "colab": {},
    "colab_type": "code",
    "id": "bo6sh1pGnK6B"
   },
   "outputs": [],
   "source": []
  },
  {
   "cell_type": "code",
   "execution_count": null,
   "metadata": {
    "colab": {},
    "colab_type": "code",
    "id": "vhtjA7qGnK07"
   },
   "outputs": [],
   "source": []
  },
  {
   "cell_type": "code",
   "execution_count": null,
   "metadata": {
    "colab": {},
    "colab_type": "code",
    "id": "BQqC8MAknJD4"
   },
   "outputs": [],
   "source": []
  },
  {
   "cell_type": "code",
   "execution_count": null,
   "metadata": {
    "colab": {},
    "colab_type": "code",
    "id": "cMjeT_DkpPQ2"
   },
   "outputs": [],
   "source": []
  },
  {
   "cell_type": "code",
   "execution_count": null,
   "metadata": {
    "colab": {},
    "colab_type": "code",
    "id": "9nWmBBwIpPMx"
   },
   "outputs": [],
   "source": []
  },
  {
   "cell_type": "code",
   "execution_count": null,
   "metadata": {
    "colab": {},
    "colab_type": "code",
    "id": "eSGPqXKcpPI1"
   },
   "outputs": [],
   "source": []
  },
  {
   "cell_type": "code",
   "execution_count": null,
   "metadata": {
    "colab": {},
    "colab_type": "code",
    "id": "tjVDPmZDpPEo"
   },
   "outputs": [],
   "source": []
  },
  {
   "cell_type": "code",
   "execution_count": null,
   "metadata": {
    "colab": {},
    "colab_type": "code",
    "id": "YfAACV1ipO-d"
   },
   "outputs": [],
   "source": []
  },
  {
   "cell_type": "code",
   "execution_count": null,
   "metadata": {
    "colab": {},
    "colab_type": "code",
    "id": "xM7snwiBpO4v"
   },
   "outputs": [],
   "source": []
  },
  {
   "cell_type": "code",
   "execution_count": null,
   "metadata": {
    "colab": {},
    "colab_type": "code",
    "id": "JzfPjub9pOxl"
   },
   "outputs": [],
   "source": []
  }
 ],
 "metadata": {
  "accelerator": "GPU",
  "colab": {
   "authorship_tag": "ABX9TyMgMTEkgjgLBJHYrQheLmp5",
   "include_colab_link": true,
   "name": "Text classification Tensorflow - Multiclass",
   "provenance": []
  },
  "kernelspec": {
   "display_name": "Python 3",
   "language": "python",
   "name": "python3"
  },
  "language_info": {
   "codemirror_mode": {
    "name": "ipython",
    "version": 3
   },
   "file_extension": ".py",
   "mimetype": "text/x-python",
   "name": "python",
   "nbconvert_exporter": "python",
   "pygments_lexer": "ipython3",
   "version": "3.8.3"
  }
 },
 "nbformat": 4,
 "nbformat_minor": 1
}
